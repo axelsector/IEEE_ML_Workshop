{
  "nbformat": 4,
  "nbformat_minor": 0,
  "metadata": {
    "colab": {
      "provenance": []
    },
    "kernelspec": {
      "name": "python3",
      "display_name": "Python 3"
    },
    "language_info": {
      "name": "python"
    }
  },
  "cells": [
    {
      "cell_type": "markdown",
      "source": [
        "# 1) Data Exploration\n",
        "Different ways to visualise and understand data.\n",
        "\n",
        "\n"
      ],
      "metadata": {
        "id": "-sRtLlIso0l_"
      }
    },
    {
      "cell_type": "markdown",
      "source": [
        "## a) Sampling and Plotting\n",
        "In this section you will learn the basics of sampling and plotting using python libraries.\n",
        "- Generate 1000 samples from a normal distribution with a mean of 5 and standard deviation of 1 using NumPy. Visualize the distribution using a histogram in Matplotlib.\n"
      ],
      "metadata": {
        "id": "1Xsjv5G4qo-9"
      }
    },
    {
      "cell_type": "code",
      "execution_count": null,
      "metadata": {
        "id": "G3M6bRPdowil"
      },
      "outputs": [],
      "source": [
        "import numpy as np #This library helps us generate and process sample data.\n",
        "import matplotlib.pyplot as plt #This library is used to visualise data.\n"
      ]
    },
    {
      "cell_type": "code",
      "source": [
        "norm = np.random.normal(5,1,1000)\n",
        "print(norm)"
      ],
      "metadata": {
        "id": "biinNxCAqyIN"
      },
      "execution_count": null,
      "outputs": []
    },
    {
      "cell_type": "code",
      "source": [
        "plt.hist(norm)\n",
        "plt.xlabel(\"Values\")\n",
        "plt.ylabel(\"Density\")\n",
        "plt.show()"
      ],
      "metadata": {
        "id": "_8LQyjB0wXpg"
      },
      "execution_count": null,
      "outputs": []
    },
    {
      "cell_type": "markdown",
      "source": [
        "- Repeat for an exponential distribution with an average rate of 3 and visualise it as a density graph."
      ],
      "metadata": {
        "id": "OC4G7oTM3tA4"
      }
    },
    {
      "cell_type": "code",
      "source": [
        "gam = np.random.gamma(shape=2, scale=4, size=1000)\n",
        "print(gam)"
      ],
      "metadata": {
        "id": "5qFhX3ElxGXo"
      },
      "execution_count": null,
      "outputs": []
    },
    {
      "cell_type": "code",
      "source": [
        "count, binedge = np.histogram(gam, bins=30)\n",
        "pdf = count/sum(count)\n",
        "print(count) #number of values in each bin\n",
        "print(binedge) #border values of bin\n",
        "print(pdf) #probability of a number being in a bin\n",
        "plt.plot(binedge[1:], pdf)\n",
        "plt.show()"
      ],
      "metadata": {
        "id": "-S3_cYC0y5zJ"
      },
      "execution_count": null,
      "outputs": []
    },
    {
      "cell_type": "markdown",
      "source": [
        "###Practice Problems:\n",
        "- Generate 1000 samples of a Uniform Distribution between 0 and 10. Visualise using a histogram.\n"
      ],
      "metadata": {
        "id": "t8CoSyXr2YLo"
      }
    },
    {
      "cell_type": "code",
      "source": [],
      "metadata": {
        "id": "BNP06-nU3x1t"
      },
      "execution_count": null,
      "outputs": []
    },
    {
      "cell_type": "markdown",
      "source": [
        "- Generate a beta distribution with shape parameters alpha=2 and beta=5. Plot the probability density function (PDF) and cumulative distribution function (CDF)."
      ],
      "metadata": {
        "id": "yBJwYxx93wwz"
      }
    },
    {
      "cell_type": "code",
      "source": [],
      "metadata": {
        "id": "QqVyUQds3nr2"
      },
      "execution_count": null,
      "outputs": []
    },
    {
      "cell_type": "markdown",
      "source": [
        "## b) Filtering & Plotting from a Data Frame\n",
        "In this section you will learn how to filter and plot data from a given dataset."
      ],
      "metadata": {
        "id": "k_tDv-eY1pSj"
      }
    },
    {
      "cell_type": "code",
      "source": [
        "dimport numpy as np\n",
        "import matplotlib.pyplot as plt\n",
        "import pandas as pd #This library is used to read dataframes (spreadsheets)"
      ],
      "metadata": {
        "id": "DE7qa-OR69bt"
      },
      "execution_count": null,
      "outputs": []
    },
    {
      "cell_type": "markdown",
      "source": [
        "- Read and display the given dataset Star_Properties.csv."
      ],
      "metadata": {
        "id": "wxwZFQwU7rt3"
      }
    },
    {
      "cell_type": "code",
      "source": [
        "sp = pd.read_csv(\"Star_Properties.csv\")\n",
        "sp"
      ],
      "metadata": {
        "id": "U0SflCir7LlF"
      },
      "execution_count": null,
      "outputs": []
    },
    {
      "cell_type": "markdown",
      "source": [
        "- Filter the data to display only stars of spectral class \"O\". Visualise the data as a histrogram sorted by Star Type."
      ],
      "metadata": {
        "id": "XSBl5akI77pA"
      }
    },
    {
      "cell_type": "code",
      "source": [
        "os = sp.loc[sp['Spectral Class'] == 'O']\n",
        "plt.hist(os['Star type'])\n",
        "plt.xlabel(\"Star Type\")\n",
        "plt.ylabel(\"Count\")\n",
        "plt.show()"
      ],
      "metadata": {
        "id": "hmUuE3xy8hR7"
      },
      "execution_count": null,
      "outputs": []
    },
    {
      "cell_type": "markdown",
      "source": [
        "- Plot all the stars in a Temperature vs Luminosity scatter plot."
      ],
      "metadata": {
        "id": "VR4DXG_bDkMf"
      }
    },
    {
      "cell_type": "code",
      "source": [
        "lum = sp['Luminosity(L/Lo)']\n",
        "temp = sp['Temperature (K)']\n",
        "\n",
        "plt.scatter(temp, lum, s=100, alpha=0.6, edgecolor='black', linewidth=1)\n",
        "plt.xlabel('Temperature (K)')\n",
        "plt.ylabel('Luminosity(L/Lo)')\n",
        "plt.show()"
      ],
      "metadata": {
        "id": "yuRrkmC6D5er"
      },
      "execution_count": null,
      "outputs": []
    },
    {
      "cell_type": "markdown",
      "source": [
        "### Practice Problems\n",
        "- Filter out stars of Color Red. Visualise this data as a histrogram sorted by temperature.\n"
      ],
      "metadata": {
        "id": "t3AmQIHZ_Fvc"
      }
    },
    {
      "cell_type": "code",
      "source": [],
      "metadata": {
        "id": "ggItaASpBywB"
      },
      "execution_count": null,
      "outputs": []
    },
    {
      "cell_type": "markdown",
      "source": [
        "- Plot the stars with a Temperature in (5000,30000) and Luminosity in (0,0.01) in a Temperature vs Luminosity scatter plot.                                          \n",
        "Hint: Luminosity is a logarithmic scale, adjust the limits accordingly."
      ],
      "metadata": {
        "id": "MStyJiWaEkeb"
      }
    },
    {
      "cell_type": "code",
      "source": [],
      "metadata": {
        "id": "qj7v0x1EFUTH"
      },
      "execution_count": null,
      "outputs": []
    },
    {
      "cell_type": "markdown",
      "source": [
        "- (Hard) Bonus: The first histogram (Star Type vs Count) is not a good representation of the data. Can you find a way to present the data is an easier format?                                          \n",
        "Hint: You need to plot a different type of graph."
      ],
      "metadata": {
        "id": "qG4TDNyCBzJK"
      }
    },
    {
      "cell_type": "code",
      "source": [],
      "metadata": {
        "id": "IziMeKAo_fea"
      },
      "execution_count": null,
      "outputs": []
    },
    {
      "cell_type": "markdown",
      "source": [
        "# 2) Cleaning Data\n"
      ],
      "metadata": {
        "id": "NUbbtz7My7e9"
      }
    },
    {
      "cell_type": "markdown",
      "source": [
        "In this section you will learn how to clean data before using it for ML applications."
      ],
      "metadata": {
        "id": "A9uM30sbDaH9"
      }
    },
    {
      "cell_type": "code",
      "source": [
        "import numpy as np\n",
        "import matplotlib.pyplot as plt\n",
        "import pandas as pd"
      ],
      "metadata": {
        "id": "TtDdZ88YPJhm"
      },
      "execution_count": null,
      "outputs": []
    },
    {
      "cell_type": "markdown",
      "source": [
        "## a) NULL Values\n",
        "- Import the dataset diabetes.xlsx and display it.\n"
      ],
      "metadata": {
        "id": "GACjeydnNHrO"
      }
    },
    {
      "cell_type": "code",
      "source": [
        "db = pd.read_excel(\"diabetes.xlsx\")\n",
        "db"
      ],
      "metadata": {
        "id": "wsq_UowbPOvS"
      },
      "execution_count": null,
      "outputs": []
    },
    {
      "cell_type": "markdown",
      "source": [
        "- Display the columns with missing values."
      ],
      "metadata": {
        "id": "ZgE8D70B7yS5"
      }
    },
    {
      "cell_type": "code",
      "source": [
        "# Identify missing values\n",
        "for i in db.columns:\n",
        "  counts = db[i].value_counts()\n",
        "  if 0 in counts:  # Check if 0 is in the index\n",
        "    print(f\"Column '{i}' has {counts[0]} values at 0.\")"
      ],
      "metadata": {
        "colab": {
          "base_uri": "https://localhost:8080/"
        },
        "id": "JJw3PXo77vo5",
        "outputId": "daa0b8cb-ea9a-4109-9c33-172a06a32ba9"
      },
      "execution_count": null,
      "outputs": [
        {
          "output_type": "stream",
          "name": "stdout",
          "text": [
            "Column 'Glucose' has 5 0 values.\n",
            "Column 'BloodPressure' has 35 0 values.\n",
            "Column 'SkinThickness' has 227 0 values.\n",
            "Column 'Insulin' has 374 0 values.\n",
            "Column 'BMI' has 11 0 values.\n",
            "Column 'Outcome' has 500 0 values.\n"
          ]
        }
      ]
    },
    {
      "cell_type": "markdown",
      "source": [
        "- Deal with the missing values for\n",
        "\n",
        "i.  Blood Pressure, Insulin and BMI. (using imputation)\n",
        "\n",
        "ii. Skin Thickness and Glucose. (using forward filling)"
      ],
      "metadata": {
        "id": "Sbl3C1lkTaHZ"
      }
    },
    {
      "cell_type": "code",
      "source": [
        "#method 1: imputation\n",
        "for cl in ['BloodPressure', 'Insulin', 'BMI']:\n",
        "  m=db[cl].median()\n",
        "  db[cl].replace(0, m, inplace=True)\n",
        "for cl in ['Glucose','SkinThickness']:\n",
        "  db[cl].replace(0, method='ffill', inplace=True)\n",
        "db"
      ],
      "metadata": {
        "id": "7FOvXgRUTx6C"
      },
      "execution_count": null,
      "outputs": []
    },
    {
      "cell_type": "markdown",
      "source": [
        "- Check for missing values again."
      ],
      "metadata": {
        "id": "t6hVGYES9iS_"
      }
    },
    {
      "cell_type": "code",
      "source": [
        "for i in db.columns:\n",
        "  counts = db[i].value_counts()\n",
        "  if 0 in counts:  # Check if 0 is in the index\n",
        "    print(f\"Column '{i}' has {counts[0]} values at 0.\")"
      ],
      "metadata": {
        "colab": {
          "base_uri": "https://localhost:8080/"
        },
        "id": "4NO7dzgi9c-x",
        "outputId": "c157ae19-5aa9-4948-c261-4316f992d63d"
      },
      "execution_count": null,
      "outputs": [
        {
          "output_type": "stream",
          "name": "stdout",
          "text": [
            "Column 'Outcome' has 500 values at 0.\n"
          ]
        }
      ]
    },
    {
      "cell_type": "markdown",
      "source": [
        "### Practice Problems\n",
        "- Import the dataset titanic-train.csv\n",
        "- Display it and handle the missing values in the dataset.\n",
        "\n",
        "\n",
        "\n"
      ],
      "metadata": {
        "id": "ibALcneu7uzT"
      }
    },
    {
      "cell_type": "code",
      "source": [],
      "metadata": {
        "id": "HnosbSD7-GNO"
      },
      "execution_count": null,
      "outputs": []
    },
    {
      "cell_type": "code",
      "source": [],
      "metadata": {
        "colab": {
          "base_uri": "https://localhost:8080/"
        },
        "id": "-0GtulKY_v1l",
        "outputId": "c3b32512-fee5-4934-e5a1-a9056eecba8a"
      },
      "execution_count": null,
      "outputs": [
        {
          "output_type": "stream",
          "name": "stdout",
          "text": [
            "PassengerId      0\n",
            "Survived         0\n",
            "Pclass           0\n",
            "Name             0\n",
            "Sex              0\n",
            "Age            177\n",
            "SibSp            0\n",
            "Parch            0\n",
            "Ticket           0\n",
            "Fare             0\n",
            "Cabin          691\n",
            "Embarked         2\n",
            "dtype: int64\n"
          ]
        }
      ]
    },
    {
      "cell_type": "code",
      "source": [],
      "metadata": {
        "id": "zKivw0U1BIza"
      },
      "execution_count": null,
      "outputs": []
    },
    {
      "cell_type": "markdown",
      "source": [
        "## b) Outliers\n",
        "- Import the diamonds dataset from seaborn.\n",
        "- Visualise the data as a scatter plot."
      ],
      "metadata": {
        "id": "VCgIdNW7B2UA"
      }
    },
    {
      "cell_type": "code",
      "source": [
        "import seaborn as sns\n",
        "import matplotlib.pyplot as plt\n",
        "import numpy as np\n",
        "\n",
        "# Load diamonds dataset\n",
        "diamonds = sns.load_dataset('diamonds')\n",
        "\n",
        "# Scatter plot of carat vs price\n",
        "plt.scatter(diamonds['carat'], diamonds['price'])\n",
        "plt.xlabel('Carat')\n",
        "plt.ylabel('Price')\n",
        "plt.title('Scatter Plot of Carat vs Price')\n",
        "plt.show()\n"
      ],
      "metadata": {
        "id": "TdDU4vbQIbTM"
      },
      "execution_count": null,
      "outputs": []
    },
    {
      "cell_type": "markdown",
      "source": [
        "- Identify the outliers in the data.\n",
        "- Remove the outliers using trimming."
      ],
      "metadata": {
        "id": "cjbic9G3Kfou"
      }
    },
    {
      "cell_type": "code",
      "source": [
        "# Remove outliers using trimming\n",
        "diamonds_trimmed = diamonds[(diamonds['carat'] < 3.5)]\n",
        "\n",
        "# Scatter plot of carat vs price (trimmed)\n",
        "plt.scatter(diamonds_trimmed['carat'], diamonds_trimmed['price'])\n",
        "plt.xlabel('Carat')\n",
        "plt.ylabel('Price')\n",
        "plt.title('Scatter Plot of Carat vs Price (Trimmed)')\n",
        "plt.show()"
      ],
      "metadata": {
        "id": "WKoKBCe9KBLJ"
      },
      "execution_count": null,
      "outputs": []
    },
    {
      "cell_type": "markdown",
      "source": [
        "### Practice Problems:\n",
        "- Identify outliers in the titanic-train.csv dataset using a boxplot.\n",
        "- Handle the outliers using trimming.\n"
      ],
      "metadata": {
        "id": "IclJVc89CKtY"
      }
    },
    {
      "cell_type": "code",
      "source": [],
      "metadata": {
        "id": "W8ZwAO1aCzdq"
      },
      "execution_count": null,
      "outputs": []
    },
    {
      "cell_type": "code",
      "source": [],
      "metadata": {
        "id": "l5l9fgVNDPXv"
      },
      "execution_count": null,
      "outputs": []
    },
    {
      "cell_type": "code",
      "source": [],
      "metadata": {
        "id": "wyLkCQM7DRgo"
      },
      "execution_count": null,
      "outputs": []
    },
    {
      "cell_type": "markdown",
      "source": [
        "## c) Duplicates"
      ],
      "metadata": {
        "id": "QkUWRpN1E-At"
      }
    },
    {
      "cell_type": "code",
      "source": [
        "data = {\n",
        "    'Name': ['John', 'Mary', 'John', 'David', 'Mary', 'John'],\n",
        "    'Age': [25, 31, 25, 42, 31, 25],\n",
        "    'City': ['New York', 'Los Angeles', 'New York', 'Chicago', 'Los Angeles', 'New York']\n",
        "}\n",
        "df = pd.DataFrame(data)\n",
        "print(\"Original Dataset:\")\n",
        "print(df)"
      ],
      "metadata": {
        "id": "Itsnkf58LY-9"
      },
      "execution_count": null,
      "outputs": []
    },
    {
      "cell_type": "markdown",
      "source": [
        "- Given the sample dataset above, identify the number of duplicate entries.\n"
      ],
      "metadata": {
        "id": "N9Z17MuFKamO"
      }
    },
    {
      "cell_type": "code",
      "source": [
        "print(df.duplicated().sum())"
      ],
      "metadata": {
        "id": "_dRTthNWLk-e"
      },
      "execution_count": null,
      "outputs": []
    },
    {
      "cell_type": "markdown",
      "source": [
        "- Remove the duplicates."
      ],
      "metadata": {
        "id": "h9rwUIitMBDu"
      }
    },
    {
      "cell_type": "code",
      "source": [
        "df.drop_duplicates(inplace=True)\n",
        "print(\"\\nDataset after removing duplicates:\")\n",
        "print(df)"
      ],
      "metadata": {
        "id": "0cNlkQVsL_ov"
      },
      "execution_count": null,
      "outputs": []
    },
    {
      "cell_type": "markdown",
      "source": [
        "### Practice Problems\n",
        "- Identify duplicates in the titanic-train.csv dataset.\n",
        "- Handle duplicates by dropping them.\n"
      ],
      "metadata": {
        "id": "n3OdlaBuFDRI"
      }
    },
    {
      "cell_type": "code",
      "source": [],
      "metadata": {
        "id": "4zcUZDk-FbQo"
      },
      "execution_count": null,
      "outputs": []
    },
    {
      "cell_type": "code",
      "source": [],
      "metadata": {
        "id": "gaSVAlFxHTVt"
      },
      "execution_count": null,
      "outputs": []
    },
    {
      "cell_type": "markdown",
      "source": [
        "# 3) Normalisation\n",
        "Often in machine learning, you will have to deal with datasets that have various sources or data from different types or formats.\n",
        "\n",
        "To prevent any errors in our application, we need to convert all the data into a common format.\n",
        "This process is called normalisation.\n",
        "\n",
        "In this section you will learn about two forms of normalisation."
      ],
      "metadata": {
        "id": "SsyaLN5UMzUw"
      }
    },
    {
      "cell_type": "markdown",
      "source": [
        "## a) Encoding\n",
        "Encoding is the process of converting non-numerical data into numerical data that can be understood by the computer.\n"
      ],
      "metadata": {
        "id": "WAFAVSCsNJOf"
      }
    },
    {
      "cell_type": "code",
      "source": [
        "from sklearn.preprocessing import OneHotEncoder\n",
        "# Create a sample dataset with categorical variables\n",
        "data = {'color': ['red', 'green', 'blue', 'red', 'blue', 'green'],\n",
        "\n",
        "        'shape': ['circle', 'triangle', 'circle', 'square', 'triangle', 'square']}\n",
        "df = pd.DataFrame(data)\n",
        "print(\"Original dataset:\")\n",
        "df"
      ],
      "metadata": {
        "id": "gHWUKrUkNhJb"
      },
      "execution_count": null,
      "outputs": []
    },
    {
      "cell_type": "markdown",
      "source": [
        "- Given the above dataset, use one-hot encoding to convert the categorical data (Circle, Square, etc) into numerical data."
      ],
      "metadata": {
        "id": "f7nf39GbONlO"
      }
    },
    {
      "cell_type": "code",
      "source": [
        "# One-hot encode the categorical variables\n",
        "encoder = OneHotEncoder(sparse_output=False)\n",
        "encoder.fit(df)\n",
        "encoded_df = encoder.transform(df)\n",
        "print(\"One-hot encoded dataset:\")\n",
        "encoded_df"
      ],
      "metadata": {
        "id": "UGdZF_wOOWBA"
      },
      "execution_count": null,
      "outputs": []
    },
    {
      "cell_type": "code",
      "source": [
        "# Convert the encoded data back to a Pandas DataFrame\n",
        "encoded_df = pd.DataFrame(encoded_df, columns=encoder.get_feature_names_out())\n",
        "encoded_df"
      ],
      "metadata": {
        "id": "tyl7nuykP6-S"
      },
      "execution_count": null,
      "outputs": []
    },
    {
      "cell_type": "markdown",
      "source": [
        "### Practice Problems:\n",
        "- Using the cleaned titanic-train.csv dataset, encode the data in the Embarked column."
      ],
      "metadata": {
        "id": "BwsMEf5pQGky"
      }
    },
    {
      "cell_type": "code",
      "source": [],
      "metadata": {
        "id": "mWopdkoPQqep"
      },
      "execution_count": null,
      "outputs": []
    },
    {
      "cell_type": "code",
      "source": [],
      "metadata": {
        "id": "Kd81DY3hf1XR"
      },
      "execution_count": null,
      "outputs": []
    },
    {
      "cell_type": "code",
      "source": [],
      "metadata": {
        "id": "SfNMhK41jB_3"
      },
      "execution_count": null,
      "outputs": []
    },
    {
      "cell_type": "markdown",
      "source": [
        "- Use binary encoding to encode the data in the Sex column."
      ],
      "metadata": {
        "id": "YeZOXe3lrBE6"
      }
    },
    {
      "cell_type": "code",
      "source": [],
      "metadata": {
        "id": "iAanKx7UrAzY"
      },
      "execution_count": null,
      "outputs": []
    },
    {
      "cell_type": "markdown",
      "source": [
        "## b) Scaling\n",
        "Different sources of data can have different ranges and minimum/maximum values. To ensure that all data is given equal importance, we need to standardize the data.\n",
        "\n",
        "This process is called scaling.\n",
        "\n",
        "We will be using 2 different types of scaling, Standard Scaling (or z-score scaling) and Min-Max Scaling.\n",
        "We will be looking at the effect that scaling has on linear regression (will be explained in detail in the next section)."
      ],
      "metadata": {
        "id": "D_FEVYn_kx6N"
      }
    },
    {
      "cell_type": "code",
      "source": [
        "# Import necessary libraries\n",
        "from sklearn.datasets import fetch_california_housing\n",
        "from sklearn.model_selection import train_test_split\n",
        "from sklearn.preprocessing import StandardScaler, MinMaxScaler\n",
        "from sklearn.linear_model import LinearRegression\n",
        "from sklearn.metrics import mean_squared_error\n",
        "\n",
        "# Load California housing dataset\n",
        "california_housing = fetch_california_housing(as_frame=True)\n",
        "california_housing"
      ],
      "metadata": {
        "id": "GDNntlikwLE5"
      },
      "execution_count": null,
      "outputs": []
    },
    {
      "cell_type": "markdown",
      "source": [
        "- Given the above dataset about houses in california, identify the target value and feature values.\n",
        "- You can see that the features are numerical with different means and variations.\n",
        "- Use a Standard Scaler and a Mix-Max Scaler and see the effects it has on the error in a Machine Learning Model."
      ],
      "metadata": {
        "id": "MS6qhBwUp-4W"
      }
    },
    {
      "cell_type": "code",
      "source": [
        "# Split the dataset into features (X) and target (y)\n",
        "chx = california_housing.data\n",
        "chy = california_housing.target\n",
        "# Split the dataset into training and testing sets\n",
        "chx_train, chx_test, chy_train, chy_test = train_test_split(chx, chy, test_size=0.2, random_state=42)"
      ],
      "metadata": {
        "id": "ylu5OvGBptHW"
      },
      "execution_count": null,
      "outputs": []
    },
    {
      "cell_type": "code",
      "source": [
        "# Create a StandardScaler object\n",
        "scaler = StandardScaler()\n",
        "\n",
        "# Fit the scaler to the training data and transform both the training and testing data\n",
        "chx_train_scaled = scaler.fit_transform(chx_train)\n",
        "chx_test_scaled = scaler.transform(chx_test)"
      ],
      "metadata": {
        "id": "h_q9COWGuExC"
      },
      "execution_count": null,
      "outputs": []
    },
    {
      "cell_type": "code",
      "source": [
        "# Create a MinMaxScaler object\n",
        "min_max_scaler = MinMaxScaler()\n",
        "\n",
        "# Fit the scaler to the training data and transform both the training and testing data\n",
        "chx_train_min_max_scaled = min_max_scaler.fit_transform(chx_train)\n",
        "chx_test_min_max_scaled = min_max_scaler.transform(chx_test)"
      ],
      "metadata": {
        "id": "M2jb2LeNuFIu"
      },
      "execution_count": null,
      "outputs": []
    },
    {
      "cell_type": "markdown",
      "source": [
        "# 4) Linear Regression\n",
        "Now, we will be working with one of the basic types of machine learning, linear regression.\n",
        "- Given the differently scaled versions of the california housing dataset, train the model on all 3 and calculate the error in predictions."
      ],
      "metadata": {
        "id": "1Cx4-X5SPgbN"
      }
    },
    {
      "cell_type": "code",
      "source": [
        "# Create a Linear Regression model\n",
        "model = LinearRegression()"
      ],
      "metadata": {
        "id": "j1THoxTxPvwt"
      },
      "execution_count": null,
      "outputs": []
    },
    {
      "cell_type": "code",
      "source": [
        "# Train the model on the original data\n",
        "model.fit(chx_train, chy_train)\n",
        "chy_pred = model.predict(chx_test)\n",
        "mse_original = mean_squared_error(chy_test, chy_pred)"
      ],
      "metadata": {
        "id": "_rSTlty2P0xC"
      },
      "execution_count": null,
      "outputs": []
    },
    {
      "cell_type": "code",
      "source": [
        "# Train the model on the standard scaled data\n",
        "model.fit(chx_train_scaled, chy_train)\n",
        "chy_pred_scaled = model.predict(chx_test_scaled)\n",
        "mse_scaled = mean_squared_error(chy_test, chy_pred_scaled)"
      ],
      "metadata": {
        "id": "424fGlPdP53f"
      },
      "execution_count": null,
      "outputs": []
    },
    {
      "cell_type": "code",
      "source": [
        "# Train the model on the min-max scaled data\n",
        "model.fit(chx_train_min_max_scaled, chy_train)\n",
        "chy_pred_min_max_scaled = model.predict(chx_test_min_max_scaled)\n",
        "mse_min_max_scaled = mean_squared_error(chy_test, chy_pred_min_max_scaled)"
      ],
      "metadata": {
        "id": "79mQBD8_P8_F"
      },
      "execution_count": null,
      "outputs": []
    },
    {
      "cell_type": "code",
      "source": [
        "print(\"MSE on original data:\", mse_original)\n",
        "print(\"MSE on scaled data (StandardScaler):\", mse_scaled)\n",
        "print(\"MSE on scaled data (MinMaxScaler):\", mse_min_max_scaled)"
      ],
      "metadata": {
        "colab": {
          "base_uri": "https://localhost:8080/"
        },
        "id": "pvjYSDInQAAS",
        "outputId": "9338f677-38a6-4ed4-9820-015bc148417e"
      },
      "execution_count": null,
      "outputs": [
        {
          "output_type": "stream",
          "name": "stdout",
          "text": [
            "MSE on original data: 0.5558915986952444\n",
            "MSE on scaled data (StandardScaler): 0.5558915986952442\n",
            "MSE on scaled data (MinMaxScaler): 0.5558915986952438\n"
          ]
        }
      ]
    },
    {
      "cell_type": "markdown",
      "source": [
        "## Practice Problems\n",
        "- Import the fish_data dataset and view it."
      ],
      "metadata": {
        "id": "TGC17h2R9s3j"
      }
    },
    {
      "cell_type": "code",
      "source": [],
      "metadata": {
        "id": "whpDm54B8eti"
      },
      "execution_count": null,
      "outputs": []
    },
    {
      "cell_type": "markdown",
      "source": [
        "- Identify the features and targets.\n",
        "- Clean the data as shown in previous sections."
      ],
      "metadata": {
        "id": "FgreM6iX97m0"
      }
    },
    {
      "cell_type": "code",
      "source": [],
      "metadata": {
        "id": "VKE_xGh597UV"
      },
      "execution_count": null,
      "outputs": []
    },
    {
      "cell_type": "code",
      "source": [],
      "metadata": {
        "id": "1SS2H87rSkVT"
      },
      "execution_count": null,
      "outputs": []
    },
    {
      "cell_type": "markdown",
      "source": [
        "- Create a train-test split and normalise the data.\n",
        "- Run a linear regression model on the data.\n",
        "- Find the MSE of your model."
      ],
      "metadata": {
        "id": "o5XJTlNV_cQo"
      }
    },
    {
      "cell_type": "code",
      "source": [],
      "metadata": {
        "id": "hg7WgOhl_b9y"
      },
      "execution_count": null,
      "outputs": []
    }
  ]
}